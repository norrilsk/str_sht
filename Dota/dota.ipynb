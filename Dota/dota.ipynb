{
 "cells": [
  {
   "cell_type": "markdown",
   "metadata": {
    "toc": true
   },
   "source": [
    "<h1>Table of Contents<span class=\"tocSkip\"></span></h1>\n",
    "<div class=\"toc\"><ul class=\"toc-item\"><li><span><a href=\"#Посмотрим-на-данные\" data-toc-modified-id=\"Посмотрим-на-данные-1\"><span class=\"toc-item-num\">1&nbsp;&nbsp;</span>Посмотрим на данные</a></span></li><li><span><a href=\"#Обучим-сетку\" data-toc-modified-id=\"Обучим-сетку-2\"><span class=\"toc-item-num\">2&nbsp;&nbsp;</span>Обучим сетку</a></span></li></ul></div>"
   ]
  },
  {
   "cell_type": "markdown",
   "metadata": {},
   "source": [
    "## Посмотрим на данные\n",
    "\n",
    "датасет доступен и описан на https://archive.ics.uci.edu/ml/datasets/Dota2+Games+Results"
   ]
  },
  {
   "cell_type": "code",
   "execution_count": 1,
   "metadata": {
    "ExecuteTime": {
     "end_time": "2018-10-01T11:17:40.562390Z",
     "start_time": "2018-10-01T11:17:40.041057Z"
    }
   },
   "outputs": [],
   "source": [
    "import numpy as np\n",
    "import pandas as pd\n",
    "import seaborn as sns\n",
    "import matplotlib.pyplot as plt"
   ]
  },
  {
   "cell_type": "code",
   "execution_count": 2,
   "metadata": {
    "ExecuteTime": {
     "end_time": "2018-10-01T11:17:41.396026Z",
     "start_time": "2018-10-01T11:17:40.563870Z"
    }
   },
   "outputs": [
    {
     "name": "stdout",
     "output_type": "stream",
     "text": [
      "(92650, 117)\n"
     ]
    },
    {
     "data": {
      "text/html": [
       "<div>\n",
       "<style scoped>\n",
       "    .dataframe tbody tr th:only-of-type {\n",
       "        vertical-align: middle;\n",
       "    }\n",
       "\n",
       "    .dataframe tbody tr th {\n",
       "        vertical-align: top;\n",
       "    }\n",
       "\n",
       "    .dataframe thead th {\n",
       "        text-align: right;\n",
       "    }\n",
       "</style>\n",
       "<table border=\"1\" class=\"dataframe\">\n",
       "  <thead>\n",
       "    <tr style=\"text-align: right;\">\n",
       "      <th></th>\n",
       "      <th>label</th>\n",
       "      <th>cluster</th>\n",
       "      <th>mode</th>\n",
       "      <th>type</th>\n",
       "      <th>hero_0</th>\n",
       "      <th>hero_1</th>\n",
       "      <th>hero_2</th>\n",
       "      <th>hero_3</th>\n",
       "      <th>hero_4</th>\n",
       "      <th>hero_5</th>\n",
       "      <th>...</th>\n",
       "      <th>hero_103</th>\n",
       "      <th>hero_104</th>\n",
       "      <th>hero_105</th>\n",
       "      <th>hero_106</th>\n",
       "      <th>hero_107</th>\n",
       "      <th>hero_108</th>\n",
       "      <th>hero_109</th>\n",
       "      <th>hero_110</th>\n",
       "      <th>hero_111</th>\n",
       "      <th>hero_112</th>\n",
       "    </tr>\n",
       "  </thead>\n",
       "  <tbody>\n",
       "    <tr>\n",
       "      <th>0</th>\n",
       "      <td>-1</td>\n",
       "      <td>223</td>\n",
       "      <td>2</td>\n",
       "      <td>2</td>\n",
       "      <td>0</td>\n",
       "      <td>0</td>\n",
       "      <td>0</td>\n",
       "      <td>0</td>\n",
       "      <td>0</td>\n",
       "      <td>0</td>\n",
       "      <td>...</td>\n",
       "      <td>0</td>\n",
       "      <td>0</td>\n",
       "      <td>0</td>\n",
       "      <td>0</td>\n",
       "      <td>0</td>\n",
       "      <td>0</td>\n",
       "      <td>0</td>\n",
       "      <td>0</td>\n",
       "      <td>0</td>\n",
       "      <td>0</td>\n",
       "    </tr>\n",
       "    <tr>\n",
       "      <th>1</th>\n",
       "      <td>1</td>\n",
       "      <td>152</td>\n",
       "      <td>2</td>\n",
       "      <td>2</td>\n",
       "      <td>0</td>\n",
       "      <td>0</td>\n",
       "      <td>0</td>\n",
       "      <td>1</td>\n",
       "      <td>0</td>\n",
       "      <td>-1</td>\n",
       "      <td>...</td>\n",
       "      <td>0</td>\n",
       "      <td>0</td>\n",
       "      <td>0</td>\n",
       "      <td>0</td>\n",
       "      <td>0</td>\n",
       "      <td>0</td>\n",
       "      <td>0</td>\n",
       "      <td>0</td>\n",
       "      <td>0</td>\n",
       "      <td>0</td>\n",
       "    </tr>\n",
       "    <tr>\n",
       "      <th>2</th>\n",
       "      <td>1</td>\n",
       "      <td>131</td>\n",
       "      <td>2</td>\n",
       "      <td>2</td>\n",
       "      <td>0</td>\n",
       "      <td>0</td>\n",
       "      <td>0</td>\n",
       "      <td>1</td>\n",
       "      <td>0</td>\n",
       "      <td>-1</td>\n",
       "      <td>...</td>\n",
       "      <td>0</td>\n",
       "      <td>0</td>\n",
       "      <td>0</td>\n",
       "      <td>0</td>\n",
       "      <td>0</td>\n",
       "      <td>0</td>\n",
       "      <td>0</td>\n",
       "      <td>0</td>\n",
       "      <td>0</td>\n",
       "      <td>0</td>\n",
       "    </tr>\n",
       "    <tr>\n",
       "      <th>3</th>\n",
       "      <td>1</td>\n",
       "      <td>154</td>\n",
       "      <td>2</td>\n",
       "      <td>2</td>\n",
       "      <td>0</td>\n",
       "      <td>0</td>\n",
       "      <td>0</td>\n",
       "      <td>0</td>\n",
       "      <td>0</td>\n",
       "      <td>0</td>\n",
       "      <td>...</td>\n",
       "      <td>-1</td>\n",
       "      <td>0</td>\n",
       "      <td>0</td>\n",
       "      <td>0</td>\n",
       "      <td>0</td>\n",
       "      <td>0</td>\n",
       "      <td>0</td>\n",
       "      <td>0</td>\n",
       "      <td>0</td>\n",
       "      <td>0</td>\n",
       "    </tr>\n",
       "    <tr>\n",
       "      <th>4</th>\n",
       "      <td>-1</td>\n",
       "      <td>171</td>\n",
       "      <td>2</td>\n",
       "      <td>3</td>\n",
       "      <td>0</td>\n",
       "      <td>0</td>\n",
       "      <td>0</td>\n",
       "      <td>0</td>\n",
       "      <td>0</td>\n",
       "      <td>-1</td>\n",
       "      <td>...</td>\n",
       "      <td>0</td>\n",
       "      <td>0</td>\n",
       "      <td>0</td>\n",
       "      <td>0</td>\n",
       "      <td>0</td>\n",
       "      <td>0</td>\n",
       "      <td>0</td>\n",
       "      <td>0</td>\n",
       "      <td>0</td>\n",
       "      <td>0</td>\n",
       "    </tr>\n",
       "  </tbody>\n",
       "</table>\n",
       "<p>5 rows × 117 columns</p>\n",
       "</div>"
      ],
      "text/plain": [
       "   label  cluster  mode  type  hero_0  hero_1  hero_2  hero_3  hero_4  hero_5  \\\n",
       "0     -1      223     2     2       0       0       0       0       0       0   \n",
       "1      1      152     2     2       0       0       0       1       0      -1   \n",
       "2      1      131     2     2       0       0       0       1       0      -1   \n",
       "3      1      154     2     2       0       0       0       0       0       0   \n",
       "4     -1      171     2     3       0       0       0       0       0      -1   \n",
       "\n",
       "     ...     hero_103  hero_104  hero_105  hero_106  hero_107  hero_108  \\\n",
       "0    ...            0         0         0         0         0         0   \n",
       "1    ...            0         0         0         0         0         0   \n",
       "2    ...            0         0         0         0         0         0   \n",
       "3    ...           -1         0         0         0         0         0   \n",
       "4    ...            0         0         0         0         0         0   \n",
       "\n",
       "   hero_109  hero_110  hero_111  hero_112  \n",
       "0         0         0         0         0  \n",
       "1         0         0         0         0  \n",
       "2         0         0         0         0  \n",
       "3         0         0         0         0  \n",
       "4         0         0         0         0  \n",
       "\n",
       "[5 rows x 117 columns]"
      ]
     },
     "execution_count": 2,
     "metadata": {},
     "output_type": "execute_result"
    }
   ],
   "source": [
    "df = pd.read_csv('./data/dota2Train.csv', names=['label', 'cluster', 'mode', 'type', *['hero_'+ str(i-4) for i in range(4, 117)]])\n",
    "print(df.shape)\n",
    "df.head()"
   ]
  },
  {
   "cell_type": "code",
   "execution_count": 3,
   "metadata": {
    "ExecuteTime": {
     "end_time": "2018-10-01T11:17:42.754483Z",
     "start_time": "2018-10-01T11:17:41.397404Z"
    }
   },
   "outputs": [],
   "source": [
    "X = df.drop(columns = ['label'])\n",
    "for col in X.columns:\n",
    "    if X[col].std():\n",
    "        X[col] = (X[col] - X[col].mean())/X[col].std()\n",
    "    else:\n",
    "        X[col] = 0\n",
    "y = df.label.values\n",
    "\n",
    "X.head()\n",
    "y[y == -1] = 0"
   ]
  },
  {
   "cell_type": "markdown",
   "metadata": {},
   "source": [
    "Проверим баланс классов"
   ]
  },
  {
   "cell_type": "code",
   "execution_count": 4,
   "metadata": {
    "ExecuteTime": {
     "end_time": "2018-10-01T11:17:42.760240Z",
     "start_time": "2018-10-01T11:17:42.755982Z"
    }
   },
   "outputs": [
    {
     "name": "stdout",
     "output_type": "stream",
     "text": [
      "0.5265191581219644\n"
     ]
    },
    {
     "data": {
      "text/plain": [
       "(92650, 116)"
      ]
     },
     "execution_count": 4,
     "metadata": {},
     "output_type": "execute_result"
    }
   ],
   "source": [
    "print(y[y ==1].size / y.size)\n",
    "X.shape"
   ]
  },
  {
   "cell_type": "code",
   "execution_count": 5,
   "metadata": {
    "ExecuteTime": {
     "end_time": "2018-10-01T11:17:43.036742Z",
     "start_time": "2018-10-01T11:17:42.762154Z"
    }
   },
   "outputs": [
    {
     "name": "stderr",
     "output_type": "stream",
     "text": [
      "/home/anton/anaconda3/lib/python3.6/site-packages/scipy/stats/stats.py:1713: FutureWarning: Using a non-tuple sequence for multidimensional indexing is deprecated; use `arr[tuple(seq)]` instead of `arr[seq]`. In the future this will be interpreted as an array index, `arr[np.array(seq)]`, which will result either in an error or a different result.\n",
      "  return np.add.reduce(sorted[indexer] * weights, axis=axis) / sumval\n"
     ]
    },
    {
     "data": {
      "text/plain": [
       "<matplotlib.axes._subplots.AxesSubplot at 0x7f541c2037f0>"
      ]
     },
     "execution_count": 5,
     "metadata": {},
     "output_type": "execute_result"
    },
    {
     "data": {
      "image/png": "[encoded data removed]",
      "text/plain": [
       "<Figure size 432x288 with 1 Axes>"
      ]
     },
     "metadata": {},
     "output_type": "display_data"
    }
   ],
   "source": [
    "sns.distplot(df.cluster)"
   ]
  },
  {
   "cell_type": "markdown",
   "metadata": {},
   "source": [
    "## Обучим сетку"
   ]
  },
  {
   "cell_type": "code",
   "execution_count": 6,
   "metadata": {
    "ExecuteTime": {
     "end_time": "2018-10-01T11:17:43.981892Z",
     "start_time": "2018-10-01T11:17:43.038577Z"
    }
   },
   "outputs": [],
   "source": [
    "from sklearn.model_selection import StratifiedKFold, train_test_split\n",
    "import torch\n",
    "import torch.nn as nn\n",
    "from sklearn.metrics import accuracy_score"
   ]
  },
  {
   "cell_type": "code",
   "execution_count": 7,
   "metadata": {
    "ExecuteTime": {
     "end_time": "2018-10-01T11:17:43.994577Z",
     "start_time": "2018-10-01T11:17:43.983071Z"
    }
   },
   "outputs": [
    {
     "name": "stdout",
     "output_type": "stream",
     "text": [
      "cuda:0\n"
     ]
    }
   ],
   "source": [
    "device = torch.device(\"cuda:0\" if torch.cuda.is_available() else \"cpu\")\n",
    "\n",
    "# Assume that we are on a CUDA machine, then this should print a CUDA device:\n",
    "\n",
    "print(device)"
   ]
  },
  {
   "cell_type": "code",
   "execution_count": 8,
   "metadata": {
    "ExecuteTime": {
     "end_time": "2018-10-01T11:17:45.561096Z",
     "start_time": "2018-10-01T11:17:43.996220Z"
    }
   },
   "outputs": [
    {
     "name": "stdout",
     "output_type": "stream",
     "text": [
      "Net(\n",
      "  (fc1): Linear(in_features=116, out_features=500, bias=True)\n",
      "  (fc2): Linear(in_features=500, out_features=300, bias=True)\n",
      "  (fc3): Linear(in_features=300, out_features=100, bias=True)\n",
      "  (fc4): Linear(in_features=100, out_features=1, bias=True)\n",
      ")\n"
     ]
    }
   ],
   "source": [
    "class Net(nn.Module):\n",
    "\n",
    "    def __init__(self):\n",
    "        super(Net, self).__init__()\n",
    "        self.fc1 = nn.Linear(X.shape[1], 500)\n",
    "        self.fc2 = nn.Linear(500, 300)\n",
    "        self.fc3 = nn.Linear(300, 100)\n",
    "        self.fc4 = nn.Linear(100, 1)\n",
    "       # self.tr = nn.Threshold(0.5, 0)\n",
    "\n",
    "    def forward(self, x):\n",
    "        x = x.view(-1, X.shape[1])\n",
    "        x = torch.tanh(self.fc1(x))\n",
    "        x = torch.relu(self.fc2(x))\n",
    "        x = torch.relu(self.fc3(x))\n",
    "        x = torch.sigmoid(self.fc4(x))\n",
    "        return x\n",
    "\n",
    "\n",
    "net = Net()\n",
    "net = net.to(device)\n",
    "print(net)"
   ]
  },
  {
   "cell_type": "code",
   "execution_count": 9,
   "metadata": {
    "ExecuteTime": {
     "end_time": "2018-10-01T11:17:45.734907Z",
     "start_time": "2018-10-01T11:17:45.562762Z"
    }
   },
   "outputs": [
    {
     "name": "stdout",
     "output_type": "stream",
     "text": [
      "0.47299572594223543\n"
     ]
    }
   ],
   "source": [
    "X_train, X_test, y_train, y_test = train_test_split(X, y, test_size=0.25, stratify=X.cluster)\n",
    "print(y_test[y_test == 0].size / y_test.size)\n",
    "X_tr_t = torch.from_numpy(X_train.values).float().to(device)\n",
    "X_ts_t = torch.from_numpy(X_test.values).float().to(device)\n",
    "y_tr_t = torch.from_numpy(y_train).float().to(device)\n",
    "y_ts_t = torch.from_numpy(y_test).float().to(device)"
   ]
  },
  {
   "cell_type": "markdown",
   "metadata": {},
   "source": [
    "проверяем что сеть работает"
   ]
  },
  {
   "cell_type": "code",
   "execution_count": 10,
   "metadata": {
    "ExecuteTime": {
     "end_time": "2018-10-01T11:17:45.758352Z",
     "start_time": "2018-10-01T11:17:45.737251Z"
    }
   },
   "outputs": [
    {
     "name": "stdout",
     "output_type": "stream",
     "text": [
      "[1 1 1 ... 0 1 1]\n",
      "[0.52289593 0.50215214 0.5161197  ... 0.52143687 0.51240784 0.5092067 ]\n",
      "[1. 1. 1. ... 1. 1. 1.]\n",
      "0.6924043297767639\n",
      "0.5236368346069162\n"
     ]
    }
   ],
   "source": [
    "inp = X_ts_t\n",
    "inp.size()\n",
    "output = net(inp).view(-1, y_test.size)[0]\n",
    "\n",
    "criterion = nn.BCELoss()\n",
    "print(y_test)\n",
    "print(output.cpu().detach().numpy())\n",
    "loss = criterion(output, y_ts_t)\n",
    "predict = torch.nn.functional.threshold(output, 0.5, 0).cpu().detach().numpy()\n",
    "predict[predict > 0] = 1\n",
    "print(predict)\n",
    "print(loss.item())\n",
    "print(accuracy_score(y_test, predict))"
   ]
  },
  {
   "cell_type": "markdown",
   "metadata": {},
   "source": [
    "учим"
   ]
  },
  {
   "cell_type": "code",
   "execution_count": 11,
   "metadata": {
    "ExecuteTime": {
     "end_time": "2018-10-01T11:17:45.810043Z",
     "start_time": "2018-10-01T11:17:45.760112Z"
    }
   },
   "outputs": [],
   "source": [
    "import torch.optim as optim\n",
    "\n",
    "criterion = nn.BCELoss()\n",
    "optimizer = optim.ASGD(net.parameters(), lr=0.001)"
   ]
  },
  {
   "cell_type": "code",
   "execution_count": 12,
   "metadata": {
    "ExecuteTime": {
     "end_time": "2018-10-01T11:22:33.686963Z",
     "start_time": "2018-10-01T11:17:45.811541Z"
    }
   },
   "outputs": [
    {
     "name": "stdout",
     "output_type": "stream",
     "text": [
      "1 loss: 961.831 acc_train: 52.70% acc_test: 52.79%\n",
      "2 loss: 961.058 acc_train: 52.66% acc_test: 52.76%\n",
      "3 loss: 960.500 acc_train: 52.66% acc_test: 52.76%\n",
      "4 loss: 959.993 acc_train: 52.67% acc_test: 52.73%\n",
      "5 loss: 959.483 acc_train: 52.67% acc_test: 52.75%\n",
      "6 loss: 958.947 acc_train: 52.68% acc_test: 52.77%\n",
      "7 loss: 958.374 acc_train: 52.76% acc_test: 52.82%\n",
      "8 loss: 957.751 acc_train: 52.79% acc_test: 52.86%\n",
      "9 loss: 957.067 acc_train: 52.93% acc_test: 53.04%\n",
      "10 loss: 956.309 acc_train: 53.09% acc_test: 53.16%\n",
      "11 loss: 955.466 acc_train: 53.38% acc_test: 53.43%\n",
      "12 loss: 954.522 acc_train: 53.80% acc_test: 53.86%\n",
      "13 loss: 953.462 acc_train: 54.33% acc_test: 54.18%\n",
      "14 loss: 952.270 acc_train: 54.95% acc_test: 54.70%\n",
      "15 loss: 950.926 acc_train: 55.62% acc_test: 55.27%\n",
      "16 loss: 949.418 acc_train: 56.34% acc_test: 55.93%\n",
      "17 loss: 947.734 acc_train: 56.93% acc_test: 56.31%\n",
      "18 loss: 945.867 acc_train: 57.48% acc_test: 56.88%\n",
      "19 loss: 943.823 acc_train: 58.00% acc_test: 57.33%\n",
      "20 loss: 941.611 acc_train: 58.47% acc_test: 57.75%\n",
      "21 loss: 939.261 acc_train: 58.81% acc_test: 58.07%\n",
      "22 loss: 936.818 acc_train: 59.12% acc_test: 58.18%\n",
      "23 loss: 934.340 acc_train: 59.36% acc_test: 58.34%\n",
      "24 loss: 931.895 acc_train: 59.52% acc_test: 58.52%\n",
      "25 loss: 929.556 acc_train: 59.75% acc_test: 58.58%\n",
      "26 loss: 927.387 acc_train: 59.90% acc_test: 58.81%\n",
      "27 loss: 925.439 acc_train: 59.99% acc_test: 58.93%\n",
      "28 loss: 923.737 acc_train: 60.12% acc_test: 58.91%\n",
      "29 loss: 922.285 acc_train: 60.22% acc_test: 59.00%\n",
      "30 loss: 921.066 acc_train: 60.24% acc_test: 59.03%\n",
      "31 loss: 920.052 acc_train: 60.30% acc_test: 58.97%\n",
      "32 loss: 919.210 acc_train: 60.38% acc_test: 59.01%\n",
      "33 loss: 918.508 acc_train: 60.42% acc_test: 59.12%\n",
      "34 loss: 917.917 acc_train: 60.51% acc_test: 59.18%\n",
      "35 loss: 917.412 acc_train: 60.53% acc_test: 59.15%\n",
      "36 loss: 916.975 acc_train: 60.57% acc_test: 59.19%\n",
      "37 loss: 916.589 acc_train: 60.63% acc_test: 59.18%\n",
      "38 loss: 916.245 acc_train: 60.61% acc_test: 59.19%\n",
      "39 loss: 915.932 acc_train: 60.65% acc_test: 59.19%\n",
      "40 loss: 915.644 acc_train: 60.64% acc_test: 59.21%\n",
      "41 loss: 915.375 acc_train: 60.68% acc_test: 59.25%\n",
      "42 loss: 915.121 acc_train: 60.69% acc_test: 59.24%\n",
      "43 loss: 914.878 acc_train: 60.75% acc_test: 59.24%\n",
      "44 loss: 914.644 acc_train: 60.76% acc_test: 59.22%\n",
      "45 loss: 914.418 acc_train: 60.78% acc_test: 59.22%\n",
      "46 loss: 914.197 acc_train: 60.81% acc_test: 59.21%\n",
      "47 loss: 913.981 acc_train: 60.82% acc_test: 59.20%\n",
      "48 loss: 913.767 acc_train: 60.85% acc_test: 59.19%\n",
      "49 loss: 913.557 acc_train: 60.87% acc_test: 59.18%\n",
      "50 loss: 913.349 acc_train: 60.88% acc_test: 59.13%\n",
      "51 loss: 913.141 acc_train: 60.93% acc_test: 59.13%\n",
      "52 loss: 912.935 acc_train: 60.94% acc_test: 59.16%\n",
      "53 loss: 912.729 acc_train: 60.97% acc_test: 59.15%\n",
      "54 loss: 912.523 acc_train: 60.99% acc_test: 59.15%\n",
      "55 loss: 912.316 acc_train: 61.03% acc_test: 59.17%\n",
      "56 loss: 912.109 acc_train: 61.05% acc_test: 59.18%\n",
      "57 loss: 911.901 acc_train: 61.08% acc_test: 59.19%\n",
      "58 loss: 911.692 acc_train: 61.10% acc_test: 59.20%\n",
      "59 loss: 911.482 acc_train: 61.16% acc_test: 59.22%\n",
      "60 loss: 911.270 acc_train: 61.18% acc_test: 59.22%\n",
      "61 loss: 911.057 acc_train: 61.22% acc_test: 59.25%\n",
      "62 loss: 910.844 acc_train: 61.25% acc_test: 59.28%\n",
      "63 loss: 910.629 acc_train: 61.28% acc_test: 59.29%\n",
      "64 loss: 910.413 acc_train: 61.29% acc_test: 59.31%\n",
      "65 loss: 910.195 acc_train: 61.30% acc_test: 59.31%\n",
      "66 loss: 909.975 acc_train: 61.33% acc_test: 59.31%\n",
      "67 loss: 909.753 acc_train: 61.37% acc_test: 59.28%\n",
      "68 loss: 909.527 acc_train: 61.37% acc_test: 59.30%\n",
      "69 loss: 909.299 acc_train: 61.37% acc_test: 59.30%\n",
      "70 loss: 909.068 acc_train: 61.40% acc_test: 59.30%\n",
      "71 loss: 908.835 acc_train: 61.43% acc_test: 59.32%\n",
      "72 loss: 908.598 acc_train: 61.46% acc_test: 59.29%\n",
      "73 loss: 908.358 acc_train: 61.49% acc_test: 59.30%\n",
      "74 loss: 908.115 acc_train: 61.51% acc_test: 59.29%\n",
      "75 loss: 907.869 acc_train: 61.56% acc_test: 59.27%\n",
      "76 loss: 907.620 acc_train: 61.58% acc_test: 59.25%\n",
      "77 loss: 907.366 acc_train: 61.63% acc_test: 59.25%\n",
      "78 loss: 907.108 acc_train: 61.69% acc_test: 59.22%\n",
      "79 loss: 906.847 acc_train: 61.71% acc_test: 59.21%\n",
      "80 loss: 906.581 acc_train: 61.75% acc_test: 59.22%\n",
      "81 loss: 906.310 acc_train: 61.78% acc_test: 59.21%\n",
      "82 loss: 906.035 acc_train: 61.81% acc_test: 59.17%\n",
      "83 loss: 905.755 acc_train: 61.83% acc_test: 59.18%\n",
      "84 loss: 905.472 acc_train: 61.84% acc_test: 59.17%\n",
      "85 loss: 905.184 acc_train: 61.88% acc_test: 59.18%\n",
      "86 loss: 904.892 acc_train: 61.91% acc_test: 59.17%\n",
      "87 loss: 904.595 acc_train: 61.94% acc_test: 59.18%\n",
      "88 loss: 904.293 acc_train: 61.99% acc_test: 59.17%\n",
      "89 loss: 903.985 acc_train: 62.01% acc_test: 59.15%\n",
      "90 loss: 903.671 acc_train: 62.02% acc_test: 59.18%\n",
      "91 loss: 903.351 acc_train: 62.06% acc_test: 59.17%\n",
      "92 loss: 903.026 acc_train: 62.09% acc_test: 59.18%\n",
      "93 loss: 902.696 acc_train: 62.14% acc_test: 59.21%\n",
      "94 loss: 902.359 acc_train: 62.17% acc_test: 59.19%\n",
      "95 loss: 902.015 acc_train: 62.21% acc_test: 59.18%\n",
      "96 loss: 901.665 acc_train: 62.28% acc_test: 59.21%\n",
      "97 loss: 901.307 acc_train: 62.32% acc_test: 59.23%\n",
      "98 loss: 900.941 acc_train: 62.37% acc_test: 59.26%\n",
      "99 loss: 900.568 acc_train: 62.41% acc_test: 59.26%\n",
      "100 loss: 900.186 acc_train: 62.44% acc_test: 59.22%\n",
      "101 loss: 899.797 acc_train: 62.50% acc_test: 59.22%\n",
      "102 loss: 899.399 acc_train: 62.53% acc_test: 59.21%\n",
      "103 loss: 898.993 acc_train: 62.56% acc_test: 59.20%\n",
      "104 loss: 898.578 acc_train: 62.60% acc_test: 59.19%\n",
      "105 loss: 898.155 acc_train: 62.61% acc_test: 59.18%\n",
      "106 loss: 897.723 acc_train: 62.66% acc_test: 59.16%\n",
      "107 loss: 897.283 acc_train: 62.72% acc_test: 59.12%\n",
      "108 loss: 896.834 acc_train: 62.76% acc_test: 59.10%\n",
      "109 loss: 896.375 acc_train: 62.81% acc_test: 59.10%\n",
      "110 loss: 895.905 acc_train: 62.87% acc_test: 59.14%\n",
      "111 loss: 895.425 acc_train: 62.92% acc_test: 59.17%\n",
      "112 loss: 894.934 acc_train: 62.97% acc_test: 59.17%\n",
      "113 loss: 894.431 acc_train: 63.02% acc_test: 59.16%\n",
      "114 loss: 893.917 acc_train: 63.07% acc_test: 59.12%\n",
      "115 loss: 893.390 acc_train: 63.14% acc_test: 59.04%\n",
      "116 loss: 892.851 acc_train: 63.20% acc_test: 58.99%\n",
      "117 loss: 892.299 acc_train: 63.26% acc_test: 58.97%\n",
      "118 loss: 891.735 acc_train: 63.31% acc_test: 58.98%\n",
      "119 loss: 891.158 acc_train: 63.38% acc_test: 58.92%\n",
      "120 loss: 890.568 acc_train: 63.43% acc_test: 58.88%\n",
      "121 loss: 889.964 acc_train: 63.50% acc_test: 58.84%\n",
      "122 loss: 889.346 acc_train: 63.58% acc_test: 58.85%\n",
      "123 loss: 888.714 acc_train: 63.64% acc_test: 58.80%\n",
      "124 loss: 888.067 acc_train: 63.70% acc_test: 58.71%\n",
      "125 loss: 887.407 acc_train: 63.75% acc_test: 58.74%\n",
      "126 loss: 886.732 acc_train: 63.85% acc_test: 58.73%\n",
      "127 loss: 886.041 acc_train: 63.90% acc_test: 58.71%\n",
      "128 loss: 885.337 acc_train: 63.98% acc_test: 58.66%\n",
      "129 loss: 884.616 acc_train: 64.06% acc_test: 58.65%\n",
      "130 loss: 883.879 acc_train: 64.12% acc_test: 58.65%\n",
      "131 loss: 883.126 acc_train: 64.19% acc_test: 58.57%\n",
      "132 loss: 882.357 acc_train: 64.24% acc_test: 58.58%\n",
      "133 loss: 881.574 acc_train: 64.31% acc_test: 58.58%\n",
      "134 loss: 880.774 acc_train: 64.40% acc_test: 58.57%\n",
      "135 loss: 879.958 acc_train: 64.47% acc_test: 58.55%\n",
      "136 loss: 879.128 acc_train: 64.57% acc_test: 58.53%\n",
      "137 loss: 878.279 acc_train: 64.64% acc_test: 58.55%\n",
      "138 loss: 877.415 acc_train: 64.73% acc_test: 58.57%\n",
      "139 loss: 876.535 acc_train: 64.76% acc_test: 58.54%\n",
      "140 loss: 875.640 acc_train: 64.86% acc_test: 58.49%\n",
      "141 loss: 874.727 acc_train: 64.96% acc_test: 58.49%\n",
      "142 loss: 873.797 acc_train: 65.05% acc_test: 58.41%\n",
      "143 loss: 872.852 acc_train: 65.15% acc_test: 58.43%\n",
      "144 loss: 871.891 acc_train: 65.23% acc_test: 58.38%\n",
      "145 loss: 870.913 acc_train: 65.32% acc_test: 58.38%\n",
      "146 loss: 869.918 acc_train: 65.41% acc_test: 58.43%\n",
      "147 loss: 868.907 acc_train: 65.47% acc_test: 58.42%\n",
      "148 loss: 867.880 acc_train: 65.58% acc_test: 58.42%\n",
      "149 loss: 866.832 acc_train: 65.69% acc_test: 58.40%\n",
      "150 loss: 865.767 acc_train: 65.81% acc_test: 58.37%\n",
      "151 loss: 864.683 acc_train: 65.92% acc_test: 58.33%\n",
      "152 loss: 863.582 acc_train: 66.03% acc_test: 58.29%\n",
      "153 loss: 862.469 acc_train: 66.14% acc_test: 58.20%\n",
      "154 loss: 861.338 acc_train: 66.23% acc_test: 58.24%\n",
      "155 loss: 860.187 acc_train: 66.35% acc_test: 58.29%\n",
      "156 loss: 859.024 acc_train: 66.44% acc_test: 58.31%\n",
      "157 loss: 857.844 acc_train: 66.55% acc_test: 58.25%\n"
     ]
    },
    {
     "name": "stdout",
     "output_type": "stream",
     "text": [
      "158 loss: 856.645 acc_train: 66.66% acc_test: 58.18%\n",
      "159 loss: 855.432 acc_train: 66.77% acc_test: 58.17%\n",
      "160 loss: 854.203 acc_train: 66.85% acc_test: 58.19%\n",
      "161 loss: 852.956 acc_train: 66.94% acc_test: 58.14%\n",
      "162 loss: 851.693 acc_train: 67.03% acc_test: 58.08%\n",
      "163 loss: 850.416 acc_train: 67.13% acc_test: 58.08%\n",
      "164 loss: 849.122 acc_train: 67.21% acc_test: 58.03%\n",
      "165 loss: 847.814 acc_train: 67.28% acc_test: 57.96%\n",
      "166 loss: 846.491 acc_train: 67.40% acc_test: 57.91%\n",
      "167 loss: 845.152 acc_train: 67.49% acc_test: 57.84%\n",
      "168 loss: 843.794 acc_train: 67.58% acc_test: 57.77%\n",
      "169 loss: 842.419 acc_train: 67.70% acc_test: 57.76%\n",
      "170 loss: 841.028 acc_train: 67.79% acc_test: 57.78%\n",
      "171 loss: 839.620 acc_train: 67.91% acc_test: 57.72%\n",
      "172 loss: 838.198 acc_train: 68.00% acc_test: 57.66%\n",
      "173 loss: 836.763 acc_train: 68.09% acc_test: 57.64%\n",
      "174 loss: 835.305 acc_train: 68.22% acc_test: 57.64%\n",
      "175 loss: 833.831 acc_train: 68.29% acc_test: 57.64%\n",
      "176 loss: 832.340 acc_train: 68.37% acc_test: 57.61%\n",
      "177 loss: 830.832 acc_train: 68.47% acc_test: 57.63%\n",
      "178 loss: 829.311 acc_train: 68.58% acc_test: 57.59%\n",
      "179 loss: 827.775 acc_train: 68.71% acc_test: 57.53%\n",
      "180 loss: 826.216 acc_train: 68.84% acc_test: 57.49%\n",
      "181 loss: 824.636 acc_train: 68.94% acc_test: 57.48%\n",
      "182 loss: 823.037 acc_train: 69.04% acc_test: 57.47%\n",
      "183 loss: 821.420 acc_train: 69.16% acc_test: 57.46%\n",
      "184 loss: 819.787 acc_train: 69.26% acc_test: 57.46%\n",
      "185 loss: 818.142 acc_train: 69.39% acc_test: 57.44%\n",
      "186 loss: 816.476 acc_train: 69.52% acc_test: 57.33%\n",
      "187 loss: 814.790 acc_train: 69.65% acc_test: 57.29%\n",
      "188 loss: 813.081 acc_train: 69.77% acc_test: 57.24%\n",
      "189 loss: 811.359 acc_train: 69.84% acc_test: 57.13%\n",
      "190 loss: 809.615 acc_train: 69.99% acc_test: 57.03%\n",
      "191 loss: 807.853 acc_train: 70.12% acc_test: 56.97%\n",
      "192 loss: 806.068 acc_train: 70.23% acc_test: 56.95%\n",
      "193 loss: 804.262 acc_train: 70.32% acc_test: 56.84%\n",
      "194 loss: 802.431 acc_train: 70.40% acc_test: 56.85%\n",
      "195 loss: 800.588 acc_train: 70.57% acc_test: 56.84%\n",
      "196 loss: 798.716 acc_train: 70.70% acc_test: 56.86%\n",
      "197 loss: 796.823 acc_train: 70.81% acc_test: 56.82%\n",
      "198 loss: 794.904 acc_train: 70.96% acc_test: 56.73%\n",
      "199 loss: 792.958 acc_train: 71.08% acc_test: 56.65%\n",
      "200 loss: 790.978 acc_train: 71.20% acc_test: 56.59%\n"
     ]
    }
   ],
   "source": [
    "K = 50\n",
    "x = np.arange(1, 201)\n",
    "acc_train = []\n",
    "acc_test =[]\n",
    "\n",
    "for epoch in x:\n",
    "    \n",
    "    running_loss = 0.0\n",
    "    for i in range(0, X_train.shape[0], K):\n",
    "        # get the inputs\n",
    "        end = min(i + K, X_train.shape[0])\n",
    "        inputs = X_tr_t[i: end]\n",
    "        labels = y_tr_t[i: end]\n",
    "        \n",
    "\n",
    "        # zero the parameter gradients\n",
    "        optimizer.zero_grad()\n",
    "\n",
    "        # forward + backward + optimize\n",
    "        #print((i, end))\n",
    "        outputs = net(inputs).view(-1, end - i)[0]\n",
    "       # print(inputs)\n",
    "        #print(outputs)\n",
    "        #print(labels)\n",
    "        loss = criterion(outputs, labels)\n",
    "        loss.backward()\n",
    "        optimizer.step()\n",
    "\n",
    "        # print statistics\n",
    "        running_loss += loss.item()\n",
    "    # print every epoch\n",
    "    inp = X_tr_t\n",
    "    output = net(inp).view(-1, y_train.size)[0]\n",
    "    predict = torch.nn.functional.threshold(output, 0.5, 0).cpu().detach().numpy()\n",
    "    predict[predict > 0] = 1\n",
    "    acc_tr = accuracy_score(y_train, predict)\n",
    "    \n",
    "    inp = X_ts_t\n",
    "    output = net(inp).view(-1, y_test.size)[0]\n",
    "    predict = torch.nn.functional.threshold(output, 0.5, 0).cpu().detach().numpy()\n",
    "    predict[predict > 0] = 1\n",
    "    acc_ts = accuracy_score(y_test, predict)\n",
    "    if(epoch % 10  == 0):\n",
    "        print('%d loss: %.3f acc_train: %.2f%% acc_test: %.2f%%' %\n",
    "            (epoch, running_loss, acc_tr*100, acc_ts*100))\n",
    "    acc_train.append(acc_tr)\n",
    "    acc_test.append(acc_ts)\n",
    "    running_loss = 0.0"
   ]
  },
  {
   "cell_type": "code",
   "execution_count": 13,
   "metadata": {
    "ExecuteTime": {
     "end_time": "2018-10-01T11:22:33.704783Z",
     "start_time": "2018-10-01T11:22:33.688412Z"
    }
   },
   "outputs": [
    {
     "name": "stdout",
     "output_type": "stream",
     "text": [
      "0.7222638130187988\n",
      "0.565902516945128\n"
     ]
    }
   ],
   "source": [
    "inp = X_ts_t\n",
    "inp.size()\n",
    "output = net(inp).view(-1, y_test.size)[0]\n",
    "\n",
    "criterion = nn.BCELoss()\n",
    "#print(y_test)\n",
    "#print(output.cpu().detach().numpy())\n",
    "loss = criterion(output, y_ts_t)\n",
    "predict = torch.nn.functional.threshold(output, 0.5, 0).cpu().detach().numpy()\n",
    "predict[predict > 0] = 1\n",
    "#print(predict)\n",
    "print(loss.item())\n",
    "print(accuracy_score(y_test, predict))"
   ]
  },
  {
   "cell_type": "code",
   "execution_count": 22,
   "metadata": {
    "ExecuteTime": {
     "end_time": "2018-10-01T11:28:01.072440Z",
     "start_time": "2018-10-01T11:28:00.954156Z"
    }
   },
   "outputs": [
    {
     "data": {
      "image/png": "[encoded data removed]",
      "text/plain": [
       "<Figure size 432x288 with 1 Axes>"
      ]
     },
     "metadata": {},
     "output_type": "display_data"
    }
   ],
   "source": [
    "tr, = plt.plot(x, acc_train, c='r', label ='train')\n",
    "ts, = plt.plot(x, acc_test, c='b', label = 'test')\n",
    "plt.xlabel('epoch')\n",
    "plt.ylabel('accuracy')\n",
    "plt.legend(handles=[tr, ts])\n",
    "plt.show()"
   ]
  },
  {
   "cell_type": "markdown",
   "metadata": {},
   "source": [
    "повторим то же с высоким лернинг рейтом"
   ]
  },
  {
   "cell_type": "code",
   "execution_count": 25,
   "metadata": {
    "ExecuteTime": {
     "end_time": "2018-10-01T11:32:56.218858Z",
     "start_time": "2018-10-01T11:31:45.582129Z"
    }
   },
   "outputs": [
    {
     "name": "stdout",
     "output_type": "stream",
     "text": [
      "10 loss: 906.708 acc_train: 62.02% acc_test: 59.43%\n",
      "20 loss: 861.432 acc_train: 66.83% acc_test: 57.58%\n",
      "30 loss: 790.126 acc_train: 71.90% acc_test: 55.90%\n",
      "40 loss: 679.446 acc_train: 77.14% acc_test: 54.79%\n"
     ]
    }
   ],
   "source": [
    "net = Net()\n",
    "net = net.to(device)\n",
    "optimizer = optim.ASGD(net.parameters(), lr=0.01)\n",
    "\n",
    "K = 50\n",
    "x = np.arange(1, 50)\n",
    "acc_train = []\n",
    "acc_test =[]\n",
    "\n",
    "for epoch in x:\n",
    "    \n",
    "    running_loss = 0.0\n",
    "    for i in range(0, X_train.shape[0], K):\n",
    "        # get the inputs\n",
    "        end = min(i + K, X_train.shape[0])\n",
    "        inputs = X_tr_t[i: end]\n",
    "        labels = y_tr_t[i: end]\n",
    "        \n",
    "\n",
    "        # zero the parameter gradients\n",
    "        optimizer.zero_grad()\n",
    "\n",
    "        # forward + backward + optimize\n",
    "        #print((i, end))\n",
    "        outputs = net(inputs).view(-1, end - i)[0]\n",
    "       # print(inputs)\n",
    "        #print(outputs)\n",
    "        #print(labels)\n",
    "        loss = criterion(outputs, labels)\n",
    "        loss.backward()\n",
    "        optimizer.step()\n",
    "\n",
    "        # print statistics\n",
    "        running_loss += loss.item()\n",
    "    # print every epoch\n",
    "    inp = X_tr_t\n",
    "    output = net(inp).view(-1, y_train.size)[0]\n",
    "    predict = torch.nn.functional.threshold(output, 0.5, 0).cpu().detach().numpy()\n",
    "    predict[predict > 0] = 1\n",
    "    acc_tr = accuracy_score(y_train, predict)\n",
    "    \n",
    "    inp = X_ts_t\n",
    "    output = net(inp).view(-1, y_test.size)[0]\n",
    "    predict = torch.nn.functional.threshold(output, 0.5, 0).cpu().detach().numpy()\n",
    "    predict[predict > 0] = 1\n",
    "    acc_ts = accuracy_score(y_test, predict)\n",
    "    if(epoch % 10  == 0):\n",
    "        print('%d loss: %.3f acc_train: %.2f%% acc_test: %.2f%%' %\n",
    "            (epoch, running_loss, acc_tr*100, acc_ts*100))\n",
    "    acc_train.append(acc_tr)\n",
    "    acc_test.append(acc_ts)\n",
    "    running_loss = 0.0"
   ]
  },
  {
   "cell_type": "code",
   "execution_count": 26,
   "metadata": {
    "ExecuteTime": {
     "end_time": "2018-10-01T11:33:00.921093Z",
     "start_time": "2018-10-01T11:33:00.829172Z"
    }
   },
   "outputs": [
    {
     "data": {
      "image/png": "[encoded data removed]",
      "text/plain": [
       "<Figure size 432x288 with 1 Axes>"
      ]
     },
     "metadata": {},
     "output_type": "display_data"
    }
   ],
   "source": [
    "tr, = plt.plot(x, acc_train, c='r', label ='train')\n",
    "ts, = plt.plot(x, acc_test, c='b', label = 'test')\n",
    "plt.xlabel('epoch')\n",
    "plt.ylabel('accuracy')\n",
    "plt.legend(handles=[tr, ts])\n",
    "plt.show()"
   ]
  },
  {
   "cell_type": "markdown",
   "metadata": {},
   "source": [
    "Добавим шума"
   ]
  },
  {
   "cell_type": "code",
   "execution_count": 34,
   "metadata": {
    "ExecuteTime": {
     "end_time": "2018-10-01T11:40:56.572575Z",
     "start_time": "2018-10-01T11:40:56.173878Z"
    }
   },
   "outputs": [],
   "source": [
    "X_tr_t = torch.from_numpy(X_train.values + np.random.normal(0, 1,X_train.values.shape)).float().to(device)"
   ]
  },
  {
   "cell_type": "code",
   "execution_count": 35,
   "metadata": {
    "ExecuteTime": {
     "end_time": "2018-10-01T11:42:06.328305Z",
     "start_time": "2018-10-01T11:40:57.220529Z"
    }
   },
   "outputs": [
    {
     "name": "stdout",
     "output_type": "stream",
     "text": [
      "10 loss: 925.219 acc_train: 60.29% acc_test: 58.99%\n",
      "20 loss: 851.058 acc_train: 68.45% acc_test: 55.39%\n",
      "30 loss: 690.069 acc_train: 76.65% acc_test: 53.62%\n",
      "40 loss: 384.602 acc_train: 83.86% acc_test: 53.49%\n"
     ]
    }
   ],
   "source": [
    "net = Net()\n",
    "net = net.to(device)\n",
    "optimizer = optim.ASGD(net.parameters(), lr=0.01)\n",
    "\n",
    "K = 50\n",
    "x = np.arange(1, 50)\n",
    "acc_train = []\n",
    "acc_test =[]\n",
    "\n",
    "for epoch in x:\n",
    "    \n",
    "    running_loss = 0.0\n",
    "    for i in range(0, X_train.shape[0], K):\n",
    "        # get the inputs\n",
    "        end = min(i + K, X_train.shape[0])\n",
    "        inputs = X_tr_t[i: end]\n",
    "        labels = y_tr_t[i: end]\n",
    "        \n",
    "\n",
    "        # zero the parameter gradients\n",
    "        optimizer.zero_grad()\n",
    "\n",
    "        # forward + backward + optimize\n",
    "        #print((i, end))\n",
    "        outputs = net(inputs).view(-1, end - i)[0]\n",
    "       # print(inputs)\n",
    "        #print(outputs)\n",
    "        #print(labels)\n",
    "        loss = criterion(outputs, labels)\n",
    "        loss.backward()\n",
    "        optimizer.step()\n",
    "\n",
    "        # print statistics\n",
    "        running_loss += loss.item()\n",
    "    # print every epoch\n",
    "    inp = X_tr_t\n",
    "    output = net(inp).view(-1, y_train.size)[0]\n",
    "    predict = torch.nn.functional.threshold(output, 0.5, 0).cpu().detach().numpy()\n",
    "    predict[predict > 0] = 1\n",
    "    acc_tr = accuracy_score(y_train, predict)\n",
    "    \n",
    "    inp = X_ts_t\n",
    "    output = net(inp).view(-1, y_test.size)[0]\n",
    "    predict = torch.nn.functional.threshold(output, 0.5, 0).cpu().detach().numpy()\n",
    "    predict[predict > 0] = 1\n",
    "    acc_ts = accuracy_score(y_test, predict)\n",
    "    if(epoch % 10  == 0):\n",
    "        print('%d loss: %.3f acc_train: %.2f%% acc_test: %.2f%%' %\n",
    "            (epoch, running_loss, acc_tr*100, acc_ts*100))\n",
    "    acc_train.append(acc_tr)\n",
    "    acc_test.append(acc_ts)\n",
    "    running_loss = 0.0"
   ]
  },
  {
   "cell_type": "code",
   "execution_count": null,
   "metadata": {
    "ExecuteTime": {
     "end_time": "2018-10-01T11:42:06.447407Z",
     "start_time": "2018-10-01T11:40:58.475Z"
    }
   },
   "outputs": [],
   "source": [
    "tr, = plt.plot(x, acc_train, c='r', label ='train')\n",
    "ts, = plt.plot(x, acc_test, c='b', label = 'test')\n",
    "plt.xlabel('epoch')\n",
    "plt.ylabel('accuracy')\n",
    "plt.legend(handles=[tr, ts])\n",
    "plt.show()"
   ]
  },
  {
   "cell_type": "code",
   "execution_count": null,
   "metadata": {},
   "outputs": [],
   "source": []
  }
 ],
 "metadata": {
  "kernelspec": {
   "display_name": "Python 3",
   "language": "python",
   "name": "python3"
  },
  "language_info": {
   "codemirror_mode": {
    "name": "ipython",
    "version": 3
   },
   "file_extension": ".py",
   "mimetype": "text/x-python",
   "name": "python",
   "nbconvert_exporter": "python",
   "pygments_lexer": "ipython3",
   "version": "3.6.5"
  },
  "toc": {
   "nav_menu": {},
   "number_sections": true,
   "sideBar": true,
   "skip_h1_title": false,
   "title_cell": "Table of Contents",
   "title_sidebar": "Contents",
   "toc_cell": true,
   "toc_position": {},
   "toc_section_display": true,
   "toc_window_display": true
  },
  "varInspector": {
   "cols": {
    "lenName": 16,
    "lenType": 16,
    "lenVar": 40
   },
   "kernels_config": {
    "python": {
     "delete_cmd_postfix": "",
     "delete_cmd_prefix": "del ",
     "library": "var_list.py",
     "varRefreshCmd": "print(var_dic_list())"
    },
    "r": {
     "delete_cmd_postfix": ") ",
     "delete_cmd_prefix": "rm(",
     "library": "var_list.r",
     "varRefreshCmd": "cat(var_dic_list()) "
    }
   },
   "types_to_exclude": [
    "module",
    "function",
    "builtin_function_or_method",
    "instance",
    "_Feature"
   ],
   "window_display": false
  }
 },
 "nbformat": 4,
 "nbformat_minor": 2
}
